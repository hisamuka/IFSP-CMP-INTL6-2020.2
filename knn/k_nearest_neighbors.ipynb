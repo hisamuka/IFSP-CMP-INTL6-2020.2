{
 "cells": [
  {
   "cell_type": "markdown",
   "metadata": {},
   "source": [
    "# <font color='#0C509E' style='font-size: 40px;'>K-Nearest Neighbors (KNN)</font>"
   ]
  },
  {
   "cell_type": "markdown",
   "metadata": {},
   "source": [
    "# <font color='#000' style='font-size: 30px;'>Importando as bibliotecas</font>\n",
    "<hr style='border: 1px solid #000;'>"
   ]
  },
  {
   "cell_type": "code",
   "execution_count": 85,
   "metadata": {},
   "outputs": [],
   "source": [
    "import numpy as np\n",
    "import pandas as pd\n",
    "import matplotlib.pyplot as plt\n",
    "import seaborn as sns"
   ]
  },
  {
   "cell_type": "code",
   "execution_count": 86,
   "metadata": {},
   "outputs": [],
   "source": [
    "params = {'legend.fontsize': 'x-large',\n",
    "          'figure.figsize': (15, 5),\n",
    "         'axes.labelsize': 'x-large',\n",
    "         'axes.titlesize':'x-large',\n",
    "         'xtick.labelsize':'x-large',\n",
    "         'ytick.labelsize':'x-large'}\n",
    "plt.rcParams.update(params)"
   ]
  },
  {
   "cell_type": "markdown",
   "metadata": {},
   "source": [
    "# <font color='#000' style='font-size: 30px;'>Importando o dataset</font>\n",
    "<hr style='border: 1px solid #000;'>"
   ]
  },
  {
   "cell_type": "markdown",
   "metadata": {},
   "source": [
    "Source: https://www.kaggle.com/rakeshrau/social-network-ads"
   ]
  },
  {
   "cell_type": "markdown",
   "metadata": {},
   "source": [
    "### Excluindo a coluna 'User ID'"
   ]
  },
  {
   "cell_type": "markdown",
   "metadata": {},
   "source": [
    "### Renomeando as colunas"
   ]
  },
  {
   "cell_type": "markdown",
   "metadata": {},
   "source": [
    "### Deixando as opções de gênero em Português"
   ]
  },
  {
   "cell_type": "markdown",
   "metadata": {},
   "source": [
    "### Convertendo a variável 'Comprado' em Categórica (apenas para facilitar a análise exploratória)"
   ]
  },
  {
   "cell_type": "markdown",
   "metadata": {},
   "source": [
    "# <font color='#000' style='font-size: 30px;'>Informações básicas do Dataset</font>\n",
    "<hr style='border: 1px solid #000;'>"
   ]
  },
  {
   "cell_type": "markdown",
   "metadata": {},
   "source": [
    "# <font color='#000' style='font-size: 30px;'>Exploratory Data Analysis (EDA)</font>\n",
    "<hr style='border: 1px solid #000;'>"
   ]
  },
  {
   "cell_type": "markdown",
   "metadata": {},
   "source": [
    "### Proporção de Gêneros"
   ]
  },
  {
   "cell_type": "markdown",
   "metadata": {},
   "source": [
    "### Proporção de Produtos/Serviços Comprados"
   ]
  },
  {
   "cell_type": "markdown",
   "metadata": {},
   "source": [
    "### Proporção de Produtos/Serviços Comprados por Gênero"
   ]
  },
  {
   "cell_type": "markdown",
   "metadata": {},
   "source": [
    "### Distribuição de Salários"
   ]
  },
  {
   "cell_type": "markdown",
   "metadata": {},
   "source": [
    "#### Distribuição de Salários por Gênero"
   ]
  },
  {
   "cell_type": "markdown",
   "metadata": {},
   "source": [
    "### Distribuição de Salários por Idade"
   ]
  },
  {
   "cell_type": "markdown",
   "metadata": {},
   "source": [
    "# <font color='#000' style='font-size: 30px;'>Preprocessamento de dados</font>\n",
    "<hr style='border: 1px solid #000;'>"
   ]
  },
  {
   "cell_type": "markdown",
   "metadata": {},
   "source": [
    "### Convertendo o Gênero em Dummy Variable"
   ]
  },
  {
   "cell_type": "markdown",
   "metadata": {},
   "source": [
    "Como a variável categórica 'Gênero' é **binária**, não precisamos criar _duas colunas_ para representá-la. Basta transformar o valor de um gênero para Zero e o outro para 1 que é suficiente. <br/>\n",
    "Note que isso também já resolve o **Dummy Variable Trap**."
   ]
  },
  {
   "cell_type": "markdown",
   "metadata": {},
   "source": [
    "# <font color='#000' style='font-size: 30px;'>K-Nearest Neighbors</font>\n",
    "<hr style='border: 1px solid #000;'>"
   ]
  },
  {
   "cell_type": "markdown",
   "metadata": {},
   "source": [
    "## Data sampling – Amostrando o conjunto de dados"
   ]
  },
  {
   "cell_type": "markdown",
   "metadata": {},
   "source": [
    "#### Separando as variáveis independentes e dependente (classe)"
   ]
  },
  {
   "cell_type": "markdown",
   "metadata": {},
   "source": [
    "#### Amostrando a base de dados (de forma balanceada)"
   ]
  },
  {
   "cell_type": "markdown",
   "metadata": {},
   "source": [
    "#### Conferindo o balanceamento das classes"
   ]
  },
  {
   "cell_type": "markdown",
   "metadata": {},
   "source": [
    "## Feature scaling"
   ]
  },
  {
   "cell_type": "markdown",
   "metadata": {},
   "source": [
    "A escala de valores para o atributo _'Idade'_ é muito menor (com menores valores também) do que o _'Salario'_. Desta forma, na hora que o KNN computar a distância Euclideana entre as amostras no espaço de características, os _salários_ dominarão o cômputo da distância: a distância ficará **_enviesada_** para os valores dos _salários_. <br/>\n",
    "Para resolver isso, precisamos **normalizar** os dados."
   ]
  },
  {
   "cell_type": "markdown",
   "metadata": {},
   "source": [
    "#### 'Treinando' o Feature Scaler"
   ]
  },
  {
   "cell_type": "markdown",
   "metadata": {},
   "source": [
    "As duas principais técnicas de _Feature Scaling_ são: _**Normalization (MinMax Scaler)**_ e _**Standardization**_. Nesse exemplo, usaremos a primeira.\n",
    "\n",
    "**IMPORTANTE:** A fim de evitar qualquer problema de overfitting, precisamos 'treinar' nosso escalador **apenas** com o _conjunto de treinamento_."
   ]
  },
  {
   "cell_type": "markdown",
   "metadata": {},
   "source": [
    "#### Escalando os dados de Treino e Teste"
   ]
  },
  {
   "cell_type": "markdown",
   "metadata": {},
   "source": [
    "Apesar de, aparentemente, a normalização não ter mudado muito a 'cara' da distribuição dos dados nas visualizações, seu papel é crucial durante o cômputo das distâncias."
   ]
  },
  {
   "cell_type": "markdown",
   "metadata": {},
   "source": [
    "## \"Treinando\" o modelo KNN"
   ]
  },
  {
   "cell_type": "markdown",
   "metadata": {},
   "source": [
    "## Classificando/estimando/predizendo um novo resultado"
   ]
  },
  {
   "cell_type": "markdown",
   "metadata": {},
   "source": [
    "## Classificando/estimando/predizendo o conjunto de testes"
   ]
  },
  {
   "cell_type": "markdown",
   "metadata": {},
   "source": [
    "## Métricas de avaliação"
   ]
  },
  {
   "cell_type": "markdown",
   "metadata": {},
   "source": [
    "### ==> Matriz de confusão"
   ]
  },
  {
   "cell_type": "markdown",
   "metadata": {},
   "source": [
    "<img src='images/confusion_matrix.png' width=250px/>"
   ]
  },
  {
   "cell_type": "markdown",
   "metadata": {},
   "source": [
    "### ==> Precision / Recall"
   ]
  },
  {
   "cell_type": "markdown",
   "metadata": {},
   "source": [
    "<img src='images/Precisionrecall.svg'/>"
   ]
  },
  {
   "cell_type": "markdown",
   "metadata": {},
   "source": [
    "_Selected elements_ são amostradas classificadas como da **_Classe Positiva_**.\n",
    "\n",
    "_Relevant elements_ são amostradas cuja classe verdadeira é a **_Classe Positiva_**."
   ]
  },
  {
   "cell_type": "markdown",
   "metadata": {},
   "source": [
    "<div style=\"font-size: 20pt\">$Precision = \\frac{TP}{TP+FP}$</div>"
   ]
  },
  {
   "cell_type": "markdown",
   "metadata": {},
   "source": [
    "_Dos itens classificados como positivo, quantos de fato são **verdadeiros positivos**?_ <br/>\n",
    "_O quão preciso o classificador é ao classificar amostras como **positivas**?_ <br/>\n",
    "_Ex: O quão preciso o classificador é nos pacientes que ele classificou com cancer?_"
   ]
  },
  {
   "cell_type": "markdown",
   "metadata": {},
   "source": [
    "<div style=\"font-size: 20pt\">$Recall = Sensitivity = True Positive Rate = \\frac{TP}{FN+TP}$</div>"
   ]
  },
  {
   "cell_type": "markdown",
   "metadata": {},
   "source": [
    "_Quantos **verdadeiros positivos** (proporção) foram classificados corretamente?_ <br/>\n",
    "_Ex: O quão sensível o classificador é para classificar corretamente os pacientes que estão com cancer?_"
   ]
  },
  {
   "cell_type": "markdown",
   "metadata": {},
   "source": [
    "### ==> Sensitivity / Specificity"
   ]
  },
  {
   "cell_type": "markdown",
   "metadata": {},
   "source": [
    "<img src='images/Sensitivity_and_specificity.png'/>"
   ]
  },
  {
   "cell_type": "markdown",
   "metadata": {},
   "source": [
    "<div style=\"font-size: 20pt\">$Sensitivity = Recall = True Positive Rate = \\frac{TP}{FN+TP}$</div>"
   ]
  },
  {
   "cell_type": "markdown",
   "metadata": {},
   "source": [
    "_Quantos **verdadeiros positivos** (proporção) foram classificados corretamente?_ <br/>\n",
    "_Ex: O quão sensível o classificador é para classificar corretamente os pacientes que estão com cancer?_"
   ]
  },
  {
   "cell_type": "markdown",
   "metadata": {},
   "source": [
    "<div style=\"font-size: 20pt\">$Specificity = True Negative Rate = \\frac{TN}{FN+TN}$</div>"
   ]
  },
  {
   "cell_type": "markdown",
   "metadata": {},
   "source": [
    "_Quantas amostras classificadas como **negativas** são realmente **negativas**?_ <br/>\n",
    "_Ex: Quantos pacientes saudáveis são identificados como não tendo cancer?_"
   ]
  },
  {
   "cell_type": "markdown",
   "metadata": {},
   "source": [
    "### ==> Acurácia"
   ]
  },
  {
   "cell_type": "markdown",
   "metadata": {},
   "source": [
    "<div style=\"font-size: 20pt\">$Accuracy = \\frac{TP+TN}{TN+FN+FP+TP}$</div>"
   ]
  },
  {
   "cell_type": "markdown",
   "metadata": {},
   "source": [
    "_Qual foi a taxa de acerto (geral) da classificação?_"
   ]
  },
  {
   "cell_type": "markdown",
   "metadata": {},
   "source": [
    "Foca nos **True Positives e True Negatives**. Não leva muito em conta os erros de classificação (FP e FN)."
   ]
  },
  {
   "cell_type": "markdown",
   "metadata": {},
   "source": [
    "### ==> F1-Score (ou Dice score)"
   ]
  },
  {
   "cell_type": "markdown",
   "metadata": {},
   "source": [
    "Média harmonica da _Precision_ e _Recall_. Leva mais em consideração os **erros de classificação (FP e FN)** do que a _Acurácia_.\n",
    "\n",
    "<div style=\"font-size: 20pt\">$F1 = 2 * \\frac{precision * recall}{precision + recall}$</div>"
   ]
  },
  {
   "cell_type": "markdown",
   "metadata": {},
   "source": [
    "#### Accuracy vs F1-Score"
   ]
  },
  {
   "cell_type": "markdown",
   "metadata": {},
   "source": [
    "- _Accuracy_ é usada quando as taxas de **Verdadeiros Positivos** e **Verdadeiros Negativos** são mais importantes (taxas de acerto), enquanto _F1-score_ é usado quando as taxas de **Falsos Positivos** e **Falsos Negativos** são _cruciais_;\n",
    "- _Accuracy_ pode ser usada quando a distribuição de classes das amostras de teste é _similar_, enquanto a _F1-score_ é uma métrica melhor quando há desbalanceamento de classes nas amostras de teste;\n",
    "- Em problemas de classificação do \"mundo real\", o desbalanceamento de classes é comum, logo a _F1-score_ tende a ser uma métrica de avaliação mais interessante do que a _Accuracy_.\n",
    "\n",
    "https://medium.com/analytics-vidhya/accuracy-vs-f1-score-6258237beca2#:~:text=Accuracy%20is%20used%20when%20the,as%20in%20the%20above%20case."
   ]
  },
  {
   "cell_type": "markdown",
   "metadata": {},
   "source": [
    "## Justando todas as métricas"
   ]
  },
  {
   "cell_type": "markdown",
   "metadata": {},
   "source": [
    "# <font color='#000' style='font-size: 30px;'>Buscando o melhor valor para K</font>\n",
    "<hr style='border: 1px solid #000;'>"
   ]
  },
  {
   "cell_type": "markdown",
   "metadata": {},
   "source": [
    "## Analisando os resultados para um conjunto de valores para K"
   ]
  },
  {
   "cell_type": "markdown",
   "metadata": {},
   "source": [
    "## Busca de valores por Grid Seach"
   ]
  },
  {
   "cell_type": "code",
   "execution_count": null,
   "metadata": {},
   "outputs": [],
   "source": []
  }
 ],
 "metadata": {
  "kernelspec": {
   "display_name": "Python 3.7.3 64-bit ('yeah': virtualenv)",
   "language": "python",
   "name": "python37364bityeahvirtualenv41b95d149b904b48a1741f344d38907c"
  },
  "language_info": {
   "codemirror_mode": {
    "name": "ipython",
    "version": 3
   },
   "file_extension": ".py",
   "mimetype": "text/x-python",
   "name": "python",
   "nbconvert_exporter": "python",
   "pygments_lexer": "ipython3",
   "version": "3.9.0"
  }
 },
 "nbformat": 4,
 "nbformat_minor": 4
}
