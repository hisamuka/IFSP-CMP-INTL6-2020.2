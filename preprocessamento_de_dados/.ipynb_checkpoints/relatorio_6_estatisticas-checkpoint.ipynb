{
 "cells": [
  {
   "cell_type": "markdown",
   "metadata": {},
   "source": [
    "# Relatório - Analisando nosso dataset usando Estatísticas Descritivas"
   ]
  },
  {
   "cell_type": "markdown",
   "metadata": {},
   "source": [
    "## Explorando os valores dos alugueis para cada Bairro"
   ]
  },
  {
   "cell_type": "markdown",
   "metadata": {},
   "source": [
    "### Qual é o bairro com o aluguel mais caro?"
   ]
  },
  {
   "cell_type": "markdown",
   "metadata": {},
   "source": [
    "#### Valor mais caro"
   ]
  },
  {
   "cell_type": "markdown",
   "metadata": {},
   "source": [
    "**Para descobrir o índice desse bairro, de outra maneira**"
   ]
  },
  {
   "cell_type": "markdown",
   "metadata": {},
   "source": [
    "#### Mais caro na média"
   ]
  },
  {
   "cell_type": "markdown",
   "metadata": {},
   "source": [
    "### Visualizando os bairros pelo valor máximo e médio de aluguel"
   ]
  },
  {
   "cell_type": "markdown",
   "metadata": {},
   "source": [
    "## Lidando com Outliers"
   ]
  },
  {
   "cell_type": "markdown",
   "metadata": {},
   "source": [
    "#### Removendo os outliers"
   ]
  },
  {
   "cell_type": "markdown",
   "metadata": {},
   "source": [
    "#### Distribuição dos aluguéis originais"
   ]
  },
  {
   "cell_type": "markdown",
   "metadata": {},
   "source": [
    "### Explorando mais os dados em busca de _outliers_"
   ]
  },
  {
   "cell_type": "markdown",
   "metadata": {},
   "source": [
    "A **identificação de _outliers_** que fizemos no exemplo passado, utilizou os valores de aluguéis de **todos** os tipos de imóveis para tal. <br/>\n",
    "Note que ao fazer isso, os valores _elevados_ de um dado tipo de imóvel (p. ex, apartamento) podem influenciar muito o cômputo dos _quartis_. <br/>\n",
    "Desta forma, tipos de imóveis cujos aluguéis são consideravelmente _mais baixos_ (p. ex., quitinete), podem se tornar _outliers_ por juntar todos os tipos neste cômputo."
   ]
  },
  {
   "cell_type": "markdown",
   "metadata": {},
   "source": [
    "#### Oberservando a distribuição de aluguéis por tipo de imóvel"
   ]
  },
  {
   "cell_type": "markdown",
   "metadata": {},
   "source": [
    "Apenas analisando os boxplots dos aluguéis para cada tipo de imóvel, é possível identificar que os casos com mais _outliers_ são imóveis do tipo 'Apartamento' e 'Casa de Condomínio'."
   ]
  },
  {
   "cell_type": "markdown",
   "metadata": {},
   "source": [
    "#### Identificando outliers por tipo de imóvel"
   ]
  },
  {
   "cell_type": "markdown",
   "metadata": {},
   "source": [
    "#### Salvando o dataset preprocessado sem outliers"
   ]
  },
  {
   "cell_type": "markdown",
   "metadata": {},
   "source": [
    "### Mais algumas (últimas) visualizações\n",
    "Que tal plotarmos diferentes gráficos, para diferentes variáveis, tudo em um mesmo plot?"
   ]
  },
  {
   "cell_type": "markdown",
   "metadata": {},
   "source": [
    "# Exercícios"
   ]
  },
  {
   "cell_type": "markdown",
   "metadata": {},
   "source": [
    "1) Analisar todas as variáveis por tipo de imóvel e remover outliers."
   ]
  },
  {
   "cell_type": "markdown",
   "metadata": {},
   "source": [
    "2) Refazer os plots da aula para os novos dados"
   ]
  },
  {
   "cell_type": "markdown",
   "metadata": {},
   "source": [
    "3) Propor novas visualizações para os dados pré-processados. Dica: https://datavizcatalogue.com/"
   ]
  }
 ],
 "metadata": {
  "kernelspec": {
   "display_name": "Python 3.7.3 64-bit ('yeah': virtualenv)",
   "language": "python",
   "name": "python37364bityeahvirtualenv41b95d149b904b48a1741f344d38907c"
  },
  "language_info": {
   "codemirror_mode": {
    "name": "ipython",
    "version": 3
   },
   "file_extension": ".py",
   "mimetype": "text/x-python",
   "name": "python",
   "nbconvert_exporter": "python",
   "pygments_lexer": "ipython3",
   "version": "3.9.0"
  }
 },
 "nbformat": 4,
 "nbformat_minor": 4
}
