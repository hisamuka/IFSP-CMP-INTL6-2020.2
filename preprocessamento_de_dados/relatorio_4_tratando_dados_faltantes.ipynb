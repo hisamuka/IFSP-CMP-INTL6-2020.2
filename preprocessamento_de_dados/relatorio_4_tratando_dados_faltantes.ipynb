{
 "cells": [
  {
   "cell_type": "markdown",
   "metadata": {},
   "source": [
    "# Relatório - Tratando Dados Faltantes"
   ]
  },
  {
   "cell_type": "markdown",
   "metadata": {},
   "source": [
    "### Checando valores NaN/Null\n",
    "Note que temos muitos registros que possuem valores null para algumas colunas/atributos.\n",
    "Veja o 'Condomínio' e 'IPTU'."
   ]
  },
  {
   "cell_type": "markdown",
   "metadata": {},
   "source": [
    "### Tratando Valores Faltantes (NaN) para o Atributo 'Valor'\n",
    "Em um primeiro momento, podemos não estar interessados em imóveis com valor Null (na verdade, NaN = Not a Number). Poe ser que estes são imóveis novos, que ainda não foi definido o preço, ou algo assim.\n",
    "\n",
    "Então, por ora, vamos eliminar esses registros de nosso dataset ==> `dropna()`"
   ]
  },
  {
   "cell_type": "markdown",
   "metadata": {},
   "source": [
    "### Tratando Dados Faltantes para o Condomínio\n",
    "Vamos assumir o seguinte:\n",
    "- Todo o apartamento deve possuir um valor de condomínio associado. Se não tiver, remova-os da base;\n",
    "- Casas podem ou não possuir um valor para o condomínio. Se não tiver, coloque 0 no lugar.\n",
    "- IPTUs faltantes devem ser preenchidos com 0"
   ]
  },
  {
   "cell_type": "markdown",
   "metadata": {},
   "source": [
    "#### Preenchendo valores NaN com um dado valor"
   ]
  },
  {
   "cell_type": "markdown",
   "metadata": {},
   "source": [
    "Perceba que apenas as colunas 'Condomínio' e 'IPTU' não possuem todos os registros com valores _non-null_ (compare o número de registros _non-null_ com o número de registros da tabela).<br/>\n",
    "Que são justamente os casos que queremos atribuir valores zero no lugar."
   ]
  },
  {
   "cell_type": "markdown",
   "metadata": {},
   "source": [
    "### Salvando o dataset pré-processado"
   ]
  },
  {
   "cell_type": "markdown",
   "metadata": {},
   "source": [
    "### Outros métodos de preenchimento de NaN\n",
    "Existem alguns casos, como em séries temporais, que não queremos preencher todos os dados com um valor fixo. Pode ser interessante, por exemplo, preencher o valor NaN de um registro com o mesmo valor do registro anterior.\n",
    "\n",
    "https://pandas.pydata.org/pandas-docs/stable/reference/api/pandas.DataFrame.fillna.html"
   ]
  },
  {
   "cell_type": "markdown",
   "metadata": {},
   "source": [
    "`ffill`: propagada o último valor válido para os valores NaN (varre preenchendo de cima pra baixo)"
   ]
  },
  {
   "cell_type": "markdown",
   "metadata": {},
   "source": [
    "`bfill`: preenche os dados NaN, copiando o primeiro valor válido de registros posteriores (varre preenchendo de baixo pra cima)"
   ]
  },
  {
   "cell_type": "markdown",
   "metadata": {},
   "source": [
    "Outra forma **bem comum** é preencher os dados faltantes com a *média da coluna*:"
   ]
  }
 ],
 "metadata": {
  "kernelspec": {
   "display_name": "Python 3.7.3 64-bit ('yeah': virtualenv)",
   "language": "python",
   "name": "python37364bityeahvirtualenv41b95d149b904b48a1741f344d38907c"
  },
  "language_info": {
   "codemirror_mode": {
    "name": "ipython",
    "version": 3
   },
   "file_extension": ".py",
   "mimetype": "text/x-python",
   "name": "python",
   "nbconvert_exporter": "python",
   "pygments_lexer": "ipython3",
   "version": "3.9.0"
  }
 },
 "nbformat": 4,
 "nbformat_minor": 4
}
